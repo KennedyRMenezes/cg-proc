{
  "cells": [
    {
      "cell_type": "code",
      "execution_count": 11,
      "metadata": {
        "id": "htbQjbGbfpTi"
      },
      "outputs": [],
      "source": [
        "import cv2\n",
        "import numpy as np\n",
        "import matplotlib.pyplot as plt"
      ]
    },
    {
      "cell_type": "code",
      "execution_count": 12,
      "metadata": {
        "id": "eeX8BDIufx8y"
      },
      "outputs": [],
      "source": [
        "#Coloque o caminho em que está a pasta 'cg-proc' que foi clonada do repositório - NÃO EXCLUA OS OUTROS CAMINHOS, APENAS COMENTE.\n",
        "master_path = \"C:/Users/bruno/Desktop/Coding/GitHub/\"\n",
        "#master_path = \"home/ken/KR/USP/7S/CG\""
      ]
    },
    {
      "cell_type": "code",
      "execution_count": 13,
      "metadata": {
        "id": "g1h_bdjOgOxL"
      },
      "outputs": [],
      "source": [
        "# Dicionário para facilitar a refêrencia das imagens antes do threshold\n",
        "image_base_path = \"{}cg-proc/img/\".format(master_path)\n",
        "\n",
        "images_dict = {}\n",
        "\n",
        "for i in range(1, 166):\n",
        "    image_name = f\"{i}.jpeg\"  # Nome da imagem\n",
        "    image_path = image_base_path + image_name  \n",
        "    images_dict[f\"{i}\"] = image_path  # 1, 2 ..., 3"
      ]
    },
    {
      "cell_type": "code",
      "execution_count": 14,
      "metadata": {
        "id": "7Q2bmrx2gT0b"
      },
      "outputs": [],
      "source": [
        "#Funções de auxilio para plicar as transformações na imagem\n",
        "\n",
        "def contrasteBrilho(image,alpha,beta):\n",
        "    return cv2.convertScaleAbs(image, alpha, beta)\n",
        "\n",
        "def rgb_to_gray(image):\n",
        "    gray_image = cv2.cvtColor(image, cv2.COLOR_BGR2GRAY)\n",
        "    return gray_image\n",
        "\n",
        "def threshold(image, threshold_value):\n",
        "    _, binarized_image = cv2.threshold(image, threshold_value, 255, cv2.THRESH_BINARY)\n",
        "    return binarized_image\n",
        "\n",
        "def adapt_threshold(image):\n",
        "    binarized_image = cv2.adaptiveThreshold(image, 255, cv2.ADAPTIVE_THRESH_GAUSSIAN_C, cv2.THRESH_BINARY_INV, 21, 4)\n",
        "    return binarized_image\n",
        "\n",
        "def OTSU_threshold(image):\n",
        "    ret, thresh = cv2.threshold(image, 0, 255, cv2.THRESH_BINARY_INV + cv2.THRESH_OTSU)\n",
        "    return thresh\n",
        "\n",
        "def negative(image):\n",
        "    negative_image = cv2.bitwise_not(image)\n",
        "    return negative_image"
      ]
    },
    {
      "cell_type": "code",
      "execution_count": 15,
      "metadata": {},
      "outputs": [],
      "source": [
        "def fill_holes(image):\n",
        "    # Imagem para o preenchimento é uma cópia\n",
        "    filled_image = image.copy()\n",
        "    \n",
        "    # Outra imagem com fundo branco, para modificação\n",
        "    h, w = image.shape\n",
        "    white_image = np.ones((h, w), np.uint8) * 255\n",
        "    \n",
        "    # Flood fill a partir de um ponto fora da imagem (por exemplo, (0, 0))\n",
        "    flood_filled = image.copy()\n",
        "    mask = np.zeros((h + 2, w + 2), np.uint8)  # Máscara sendo 2 pixels maior que a imagem\n",
        "    cv2.floodFill(flood_filled, mask, (0, 0), 255)\n",
        "    \n",
        "    # Inverter a imagem de flood fill\n",
        "    flood_filled_inv = cv2.bitwise_not(flood_filled)\n",
        "    \n",
        "    # Obter somente os buracos\n",
        "    holes = cv2.bitwise_and(white_image, white_image, mask=flood_filled_inv)\n",
        "    \n",
        "    # Adicionar os buracos de volta à imagem original\n",
        "    filled_image = cv2.bitwise_or(image, holes)\n",
        "    \n",
        "    return filled_image"
      ]
    },
    {
      "cell_type": "code",
      "execution_count": 16,
      "metadata": {},
      "outputs": [],
      "source": [
        "def detect_circles(image):\n",
        "    # Parametros da Transformada de Hough\n",
        "    circles = cv2.HoughCircles(\n",
        "        image,\n",
        "        cv2.HOUGH_GRADIENT,\n",
        "        dp=1,\n",
        "        minDist=30,\n",
        "        param1=27,\n",
        "        param2=26,\n",
        "        minRadius=17,\n",
        "        maxRadius=100\n",
        "    )\n",
        "    return circles\n",
        "\n",
        "# Função para desenhar círculos detectados na imagem\n",
        "def draw_circles(image, circles, save_path):\n",
        "    if circles is not None:\n",
        "        circles = np.uint16(np.around(circles))\n",
        "        for i in circles[0, :]:\n",
        "            # Desenhar o contorno do círculo com borda grossa e vermelha\n",
        "            cv2.circle(image, (i[0], i[1]), i[2], (0, 0, 255), 5)\n",
        "            # Desenhar o centro do círculo com borda grossa e vermelha\n",
        "            cv2.circle(image, (i[0], i[1]), 2, (0, 0, 255), 3)\n",
        "        cv2.imwrite(save_path, image)"
      ]
    },
    {
      "cell_type": "code",
      "execution_count": 17,
      "metadata": {
        "id": "QLtylAdzgf0C"
      },
      "outputs": [],
      "source": [
        "#Ajuste de brilho e contraste (TESTE)\n",
        "for name, img_path in images_dict.items():\n",
        "    image = cv2.imread(img_path)\n",
        "    brilho = 100\n",
        "    contraste = 1.5\n",
        "    image = contrasteBrilho(image,brilho,contraste)"
      ]
    },
    {
      "cell_type": "code",
      "execution_count": 18,
      "metadata": {
        "id": "g1rhYUBpgoyK"
      },
      "outputs": [],
      "source": [
        "# Primeira etapa: threshold com o método de OTSU\n",
        "# Método de OTSU: um dos mais populares algoritmos de threshold que determina o limiar ótimo\n",
        "for name, img_path in images_dict.items():\n",
        "    image = cv2.imread(img_path)\n",
        "    gray_image = rgb_to_gray(image)\n",
        "    binarized_image = OTSU_threshold(gray_image)\n",
        "    cv2.imwrite(\"{}cg-proc/img/edited/t_hold_OTSU_{}.jpeg\".format(master_path, name), binarized_image)"
      ]
    },
    {
      "cell_type": "code",
      "execution_count": 19,
      "metadata": {},
      "outputs": [],
      "source": [
        "# Dicionário para facilitar a refêrencia das imagens após o threshold\n",
        "\n",
        "edited_image_base_path = \"{}cg-proc/img/edited/t_hold_OTSU_\".format(master_path)\n",
        "\n",
        "images_dict_edited = {}\n",
        "\n",
        "for i in range(1, 166):\n",
        "    image_name = f\"{i}.jpeg\"  # Nome da imagem editada\n",
        "    image_path = edited_image_base_path + image_name  \n",
        "    images_dict_edited[f\"{i}_\"] = image_path  "
      ]
    },
    {
      "cell_type": "code",
      "execution_count": 20,
      "metadata": {},
      "outputs": [],
      "source": [
        "for name, img_path in images_dict_edited.items():\n",
        "    # Ler a imagem em tons de cinza e aplicar algumas correções\n",
        "    image = cv2.imread(img_path, cv2.IMREAD_GRAYSCALE)\n",
        "    brilho = 100\n",
        "    contraste = 1.2\n",
        "    image = contrasteBrilho(image, brilho, contraste)\n",
        "\n",
        "    # Aplicar filtro de mediana\n",
        "    median_blurred = cv2.medianBlur(image, 7)\n",
        "\n",
        "    # Inverter as cores da imagem\n",
        "    negative_image = negative(median_blurred)\n",
        "\n",
        "    # Preencher buracos na imagem e adicionar a imagem na pasta EDITED\n",
        "    filled_image = fill_holes(negative_image)\n",
        "    cv2.imwrite(\"{}cg-proc/img/edited/{}_FILLED.jpeg\".format(master_path, name), filled_image)\n",
        "    \n",
        "    # Remover ruído usando abertura \n",
        "    kernel = np.ones((3, 3), np.uint8)\n",
        "    opening = cv2.morphologyEx(filled_image, cv2.MORPH_OPEN, kernel, iterations=2)\n",
        "    \n",
        "    # Área de fundo seguro\n",
        "    sure_bg = cv2.dilate(opening, kernel, iterations=3)\n",
        "    \n",
        "    # Área de primeiro plano seguro\n",
        "    dist_transform = cv2.distanceTransform(opening, cv2.DIST_L2, 5)\n",
        "    #cv2.imwrite(\"{}cg-proc/img/edited/{}_DIST.jpeg\".format(master_path, name), dist_transform)\n",
        "    ret, sure_fg = cv2.threshold(dist_transform, 0.6 * dist_transform.max(), 255, 0)\n",
        "    \n",
        "    # Área da região desconhecida\n",
        "    sure_fg = np.uint8(sure_fg)\n",
        "    unknown = cv2.subtract(sure_bg, sure_fg)\n",
        "    \n",
        "    # Rotulagem de marcadores\n",
        "    ret, markers = cv2.connectedComponents(sure_fg)\n",
        "    \n",
        "    # Adicionar um a todos os rótulos para que o fundo seguro não seja 0, mas 1\n",
        "    markers = markers + 1\n",
        "    \n",
        "    # Marcar a região desconhecida com zero\n",
        "    markers[unknown == 255] = 0\n",
        "\n",
        "    # Aplicar o algoritmo de watershed\n",
        "    original_image = cv2.imread(img_path)\n",
        "    markers = cv2.watershed(original_image, markers)\n",
        "    original_image[markers == -1] = [255, 0, 0]\n",
        "    \n",
        "   \n",
        "    # Intermediate images\n",
        "    cv2.imwrite(\"{}cg-proc/img/edited/{}_opening.jpeg\".format(master_path, name), opening)\n",
        "    cv2.imwrite(\"{}cg-proc/img/edited/{}_sure_bg.jpeg\".format(master_path, name), sure_bg)\n",
        "    cv2.imwrite(\"{}cg-proc/img/edited/{}_sure_fg.jpeg\".format(master_path, name), sure_fg)\n",
        "    cv2.imwrite(\"{}cg-proc/img/edited/{}_unknown.jpeg\".format(master_path, name), unknown)\n",
        "    cv2.imwrite(\"{}cg-proc/img/edited/{}_markers.jpeg\".format(master_path, name), markers.astype(np.uint8))\n",
        "    cv2.imwrite(\"{}cg-proc/img/edited/{}_final.jpeg\".format(master_path, name), original_image)\n",
        "    \n",
        "\n",
        "    # Função de seleção de círculo (HOUGH)\n",
        "    circles = detect_circles(markers.astype(np.uint8))\n",
        "    #circles = detect_circles(filled_image) # UTILIZADO PARA TESTES\n",
        "\n",
        "    # Coordenadas utilizadas para o processamento geradas pelo Algoritmo de Hough\n",
        "    #print(\"\\nCircles: \\n\",circles,\"\\nFrom image: \",name)\n",
        "\n",
        "    teste = cv2.imread(\"{}cg-proc/img/{}.jpeg\".format(master_path, name.rstrip('_'))) # O _ porque não temos isso na imagem inicial\n",
        "    \n",
        "    # Desenha uma linha vermelha ao redor das moedas e adiciona na pasta circles\n",
        "    draw_circles(teste, circles, \"{}cg-proc/img/edited/final/circles/{}.jpeg\".format(master_path, name))\n"
      ]
    }
  ],
  "metadata": {
    "colab": {
      "provenance": []
    },
    "kernelspec": {
      "display_name": "Python 3",
      "name": "python3"
    },
    "language_info": {
      "codemirror_mode": {
        "name": "ipython",
        "version": 3
      },
      "file_extension": ".py",
      "mimetype": "text/x-python",
      "name": "python",
      "nbconvert_exporter": "python",
      "pygments_lexer": "ipython3",
      "version": "3.11.9"
    }
  },
  "nbformat": 4,
  "nbformat_minor": 0
}
