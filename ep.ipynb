{
  "cells": [
    {
      "cell_type": "code",
      "execution_count": 8,
      "metadata": {
        "id": "htbQjbGbfpTi"
      },
      "outputs": [],
      "source": [
        "import cv2\n",
        "import numpy as np\n",
        "import matplotlib.pyplot as plt"
      ]
    },
    {
      "cell_type": "code",
      "execution_count": 9,
      "metadata": {
        "id": "eeX8BDIufx8y"
      },
      "outputs": [],
      "source": [
        "#Coloque o caminho em que está a pasta 'cg-proc' que foi clonada do repositório - NÃO EXCLUO OS OUTROS CAMINHOS, APENAS COMENTE.\n",
        "# master_path = \"C:/Users/bruno/\"\n",
        "master_path = \"home/ken/KR/USP/7S/CG\""
      ]
    },
    {
      "cell_type": "code",
      "execution_count": 10,
      "metadata": {
        "id": "7A2kNafPgMIy"
      },
      "outputs": [],
      "source": [
        "# Paths das imagens\n",
        "one_each = \"{}cg-proc/img/one_each.jpeg\".format(master_path)\n",
        "glued = \"{}cg-proc/img/glued.jpeg\".format(master_path)\n",
        "mess = \"{}cg-proc/img/mess.jpeg\".format(master_path)\n",
        "real_and_twentyFive = \"{}cg-proc/img/real_and_twentyFive.jpeg\".format(master_path)"
      ]
    },
    {
      "cell_type": "code",
      "execution_count": 11,
      "metadata": {
        "id": "g1h_bdjOgOxL"
      },
      "outputs": [],
      "source": [
        "# Dict para usar o nome da variável na hora de salvar o arquivo alterado.\n",
        "images_dict = {\n",
        "    'one_each': one_each,\n",
        "    'glued': glued,\n",
        "    'mess': mess,\n",
        "    'real_and_twentyFive': real_and_twentyFive\n",
        "}"
      ]
    },
    {
      "cell_type": "code",
      "execution_count": 12,
      "metadata": {
        "id": "7Q2bmrx2gT0b"
      },
      "outputs": [],
      "source": [
        "#Funções de auxilio para plicar as transformações na imagem\n",
        "\n",
        "def contrasteBrilho(image,alpha,beta):\n",
        "\n",
        "  return cv2.convertScaleAbs(image, alpha, beta)\n",
        "\n",
        "\n",
        "def rgb_to_gray(image):\n",
        "\n",
        "    gray_image = cv2.cvtColor(image, cv2.COLOR_BGR2GRAY)\n",
        "    return gray_image\n",
        "\n",
        "def threshold(image, threshold_value):\n",
        "\n",
        "    _, binarized_image = cv2.threshold(image, threshold_value, 255, cv2.THRESH_BINARY)\n",
        "    return binarized_image\n",
        "\n",
        "def adapt_threshold(image):\n",
        "\n",
        "    binarized_image = cv2.adaptiveThreshold(image, 255, cv2.ADAPTIVE_THRESH_GAUSSIAN_C, cv2.THRESH_BINARY_INV, 21, 4)\n",
        "    return binarized_image\n",
        "\n",
        "def negative(image):\n",
        "\n",
        "    negative_image = cv2.bitwise_not(image)\n",
        "    return negative_image"
      ]
    },
    {
      "cell_type": "code",
      "execution_count": 13,
      "metadata": {
        "id": "QLtylAdzgf0C"
      },
      "outputs": [
        {
          "name": "stderr",
          "output_type": "stream",
          "text": [
            "[ WARN:0@79.827] global loadsave.cpp:248 findDecoder imread_('home/ken/KR/USP/7S/CGcg-proc/img/one_each.jpeg'): can't open/read file: check file path/integrity\n",
            "[ WARN:0@79.827] global loadsave.cpp:248 findDecoder imread_('home/ken/KR/USP/7S/CGcg-proc/img/glued.jpeg'): can't open/read file: check file path/integrity\n",
            "[ WARN:0@79.885] global loadsave.cpp:248 findDecoder imread_('home/ken/KR/USP/7S/CGcg-proc/img/mess.jpeg'): can't open/read file: check file path/integrity\n",
            "[ WARN:0@79.885] global loadsave.cpp:248 findDecoder imread_('home/ken/KR/USP/7S/CGcg-proc/img/real_and_twentyFive.jpeg'): can't open/read file: check file path/integrity\n"
          ]
        }
      ],
      "source": [
        "#Ajuste de brilho e contraste\n",
        "for name, img_path in images_dict.items():\n",
        "    image = cv2.imread(img_path)\n",
        "    brilho = 100\n",
        "    contraste = 1.5\n",
        "    image = contrasteBrilho(image,brilho,contraste)"
      ]
    },
    {
      "cell_type": "code",
      "execution_count": 14,
      "metadata": {
        "id": "Hp-j1sr-gm9q"
      },
      "outputs": [
        {
          "name": "stderr",
          "output_type": "stream",
          "text": [
            "[ WARN:0@80.242] global loadsave.cpp:248 findDecoder imread_('home/ken/KR/USP/7S/CGcg-proc/img/one_each.jpeg'): can't open/read file: check file path/integrity\n"
          ]
        },
        {
          "ename": "error",
          "evalue": "OpenCV(4.9.0) /io/opencv/modules/imgproc/src/color.cpp:196: error: (-215:Assertion failed) !_src.empty() in function 'cvtColor'\n",
          "output_type": "error",
          "traceback": [
            "\u001b[0;31m---------------------------------------------------------------------------\u001b[0m",
            "\u001b[0;31merror\u001b[0m                                     Traceback (most recent call last)",
            "Cell \u001b[0;32mIn[14], line 4\u001b[0m\n\u001b[1;32m      2\u001b[0m \u001b[38;5;28;01mfor\u001b[39;00m name, img_path \u001b[38;5;129;01min\u001b[39;00m images_dict\u001b[38;5;241m.\u001b[39mitems():\n\u001b[1;32m      3\u001b[0m     image \u001b[38;5;241m=\u001b[39m cv2\u001b[38;5;241m.\u001b[39mimread(img_path)\n\u001b[0;32m----> 4\u001b[0m     gray_image \u001b[38;5;241m=\u001b[39m \u001b[43mrgb_to_gray\u001b[49m\u001b[43m(\u001b[49m\u001b[43mimage\u001b[49m\u001b[43m)\u001b[49m\n\u001b[1;32m      5\u001b[0m     threshold_value \u001b[38;5;241m=\u001b[39m \u001b[38;5;241m135\u001b[39m\n\u001b[1;32m      6\u001b[0m     binarized_image \u001b[38;5;241m=\u001b[39m threshold(gray_image, threshold_value)\n",
            "Cell \u001b[0;32mIn[12], line 10\u001b[0m, in \u001b[0;36mrgb_to_gray\u001b[0;34m(image)\u001b[0m\n\u001b[1;32m      8\u001b[0m \u001b[38;5;28;01mdef\u001b[39;00m \u001b[38;5;21mrgb_to_gray\u001b[39m(image):\n\u001b[0;32m---> 10\u001b[0m     gray_image \u001b[38;5;241m=\u001b[39m \u001b[43mcv2\u001b[49m\u001b[38;5;241;43m.\u001b[39;49m\u001b[43mcvtColor\u001b[49m\u001b[43m(\u001b[49m\u001b[43mimage\u001b[49m\u001b[43m,\u001b[49m\u001b[43m \u001b[49m\u001b[43mcv2\u001b[49m\u001b[38;5;241;43m.\u001b[39;49m\u001b[43mCOLOR_BGR2GRAY\u001b[49m\u001b[43m)\u001b[49m\n\u001b[1;32m     11\u001b[0m     \u001b[38;5;28;01mreturn\u001b[39;00m gray_image\n",
            "\u001b[0;31merror\u001b[0m: OpenCV(4.9.0) /io/opencv/modules/imgproc/src/color.cpp:196: error: (-215:Assertion failed) !_src.empty() in function 'cvtColor'\n"
          ]
        }
      ],
      "source": [
        "# Primeira etapa: carregando imagens e fazendo um primeiro threshold\n",
        "for name, img_path in images_dict.items():\n",
        "    image = cv2.imread(img_path)\n",
        "    gray_image = rgb_to_gray(image)\n",
        "    threshold_value = 135\n",
        "    binarized_image = threshold(gray_image, threshold_value)\n",
        "    cv2.imwrite(\"{}cg-proc/img/edited/t_hold_{}.jpeg\".format(master_path, name), binarized_image)"
      ]
    },
    {
      "cell_type": "code",
      "execution_count": null,
      "metadata": {
        "id": "g1rhYUBpgoyK"
      },
      "outputs": [],
      "source": [
        "# Segunda etapa: um novo threshold para deixar a imagem mais \"flat\": sem as sombras das imagens\n",
        "for name, img_path in images_dict.items():\n",
        "    image = cv2.imread(img_path)\n",
        "    gray_image = rgb_to_gray(image)\n",
        "    binarized_image = adapt_threshold(gray_image)\n",
        "    cv2.imwrite(\"{}cg-proc/img/edited/t_hold_adapt_{}.jpeg\".format(master_path, name), binarized_image)"
      ]
    },
    {
      "cell_type": "code",
      "execution_count": null,
      "metadata": {
        "id": "FbFxhkM8gq86"
      },
      "outputs": [],
      "source": [
        "# Terceira etapa: fazendo o negativo da imagem para trabalhar com as cores certas.\n",
        "images_dict_edited = {\n",
        "    'one_each_': \"{}cg-proc/img/edited/t_hold_one_each.jpeg\".format(master_path),\n",
        "    'glued_': \"{}cg-proc/img/edited/t_hold_glued.jpeg\".format(master_path),\n",
        "    'mess_': \"{}cg-proc/img/edited/t_hold_mess.jpeg\".format(master_path),\n",
        "    'real_and_twentyFive_': \"{}cg-proc/img/edited/t_hold_real_and_twentyFive.jpeg\".format(master_path)\n",
        "}\n",
        "\n",
        "for name, img_path in images_dict_edited.items():\n",
        "    image = cv2.imread(img_path, cv2.IMREAD_GRAYSCALE)\n",
        "    median_blurred = cv2.medianBlur(image,7)\n",
        "    threshold_value = 135\n",
        "    binarized_image = threshold(median_blurred, threshold_value)\n",
        "    negative_image = negative(binarized_image)\n",
        "    cv2.imwrite(\"{}cg-proc/img/edited/{}_negative.jpeg\".format(master_path, name), negative_image)"
      ]
    }
  ],
  "metadata": {
    "colab": {
      "provenance": []
    },
    "kernelspec": {
      "display_name": "Python 3",
      "name": "python3"
    },
    "language_info": {
      "codemirror_mode": {
        "name": "ipython",
        "version": 3
      },
      "file_extension": ".py",
      "mimetype": "text/x-python",
      "name": "python",
      "nbconvert_exporter": "python",
      "pygments_lexer": "ipython3",
      "version": "3.8.10"
    }
  },
  "nbformat": 4,
  "nbformat_minor": 0
}
