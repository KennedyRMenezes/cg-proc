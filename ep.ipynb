{
  "cells": [
    {
      "cell_type": "code",
      "execution_count": null,
      "metadata": {
        "id": "htbQjbGbfpTi"
      },
      "outputs": [
        {
          "ename": "",
          "evalue": "",
          "output_type": "error",
          "traceback": [
            "\u001b[1;31mRunning cells with 'Python 3.11.9' requires the ipykernel package.\n",
            "\u001b[1;31mRun the following command to install 'ipykernel' into the Python environment. \n",
            "\u001b[1;31mCommand: 'c:/Users/LucasMoura/AppData/Local/Microsoft/WindowsApps/python3.11.exe -m pip install ipykernel -U --user --force-reinstall'"
          ]
        }
      ],
      "source": [
        "import cv2\n",
        "import numpy as np\n",
        "import matplotlib.pyplot as plt"
      ]
    },
    {
      "cell_type": "code",
      "execution_count": null,
      "metadata": {
        "id": "eeX8BDIufx8y"
      },
      "outputs": [
        {
          "ename": "",
          "evalue": "",
          "output_type": "error",
          "traceback": [
            "\u001b[1;31mRunning cells with 'Python 3.11.9' requires the ipykernel package.\n",
            "\u001b[1;31mRun the following command to install 'ipykernel' into the Python environment. \n",
            "\u001b[1;31mCommand: 'c:/Users/LucasMoura/AppData/Local/Microsoft/WindowsApps/python3.11.exe -m pip install ipykernel -U --user --force-reinstall'"
          ]
        }
      ],
      "source": [
        "#Coloque o caminho em que está a pasta 'cg-proc' que foi clonada do repositório\n",
        "master_path = \"C:/Users/LucasMoura/OneDrive - FICO/Documents/vscode/\""
      ]
    },
    {
      "cell_type": "code",
      "execution_count": null,
      "metadata": {
        "id": "7A2kNafPgMIy"
      },
      "outputs": [
        {
          "ename": "",
          "evalue": "",
          "output_type": "error",
          "traceback": [
            "\u001b[1;31mRunning cells with 'Python 3.11.9' requires the ipykernel package.\n",
            "\u001b[1;31mRun the following command to install 'ipykernel' into the Python environment. \n",
            "\u001b[1;31mCommand: 'c:/Users/LucasMoura/AppData/Local/Microsoft/WindowsApps/python3.11.exe -m pip install ipykernel -U --user --force-reinstall'"
          ]
        }
      ],
      "source": [
        "# Paths das imagens\n",
        "one_each = \"{}cg-proc/img/one_each.jpeg\".format(master_path)\n",
        "glued = \"{}cg-proc/img/glued.jpeg\".format(master_path)\n",
        "mess = \"{}cg-proc/img/mess.jpeg\".format(master_path)\n",
        "real_and_twentyFive = \"{}cg-proc/img/real_and_twentyFive.jpeg\".format(master_path)"
      ]
    },
    {
      "cell_type": "code",
      "execution_count": null,
      "metadata": {
        "id": "g1h_bdjOgOxL"
      },
      "outputs": [
        {
          "ename": "",
          "evalue": "",
          "output_type": "error",
          "traceback": [
            "\u001b[1;31mRunning cells with 'Python 3.11.9' requires the ipykernel package.\n",
            "\u001b[1;31mRun the following command to install 'ipykernel' into the Python environment. \n",
            "\u001b[1;31mCommand: 'c:/Users/LucasMoura/AppData/Local/Microsoft/WindowsApps/python3.11.exe -m pip install ipykernel -U --user --force-reinstall'"
          ]
        }
      ],
      "source": [
        "# Dict para usar o nome da variável na hora de salvar o arquivo alterado.\n",
        "images_dict = {\n",
        "    'one_each': one_each,\n",
        "    'glued': glued,\n",
        "    'mess': mess,\n",
        "    'real_and_twentyFive': real_and_twentyFive\n",
        "}"
      ]
    },
    {
      "cell_type": "code",
      "execution_count": null,
      "metadata": {
        "id": "7Q2bmrx2gT0b"
      },
      "outputs": [
        {
          "ename": "",
          "evalue": "",
          "output_type": "error",
          "traceback": [
            "\u001b[1;31mRunning cells with 'Python 3.11.9' requires the ipykernel package.\n",
            "\u001b[1;31mRun the following command to install 'ipykernel' into the Python environment. \n",
            "\u001b[1;31mCommand: 'c:/Users/LucasMoura/AppData/Local/Microsoft/WindowsApps/python3.11.exe -m pip install ipykernel -U --user --force-reinstall'"
          ]
        }
      ],
      "source": [
        "#Funções de auxilio para plicar as transformações na imagem\n",
        "\n",
        "def contrasteBrilho(image,alpha,beta):\n",
        "\n",
        "  return cv2.convertScaleAbs(image, alpha, beta)\n",
        "\n",
        "\n",
        "def rgb_to_gray(image):\n",
        "\n",
        "    gray_image = cv2.cvtColor(image, cv2.COLOR_BGR2GRAY)\n",
        "    return gray_image\n",
        "\n",
        "def threshold(image, threshold_value):\n",
        "\n",
        "    _, binarized_image = cv2.threshold(image, threshold_value, 255, cv2.THRESH_BINARY)\n",
        "    return binarized_image\n",
        "\n",
        "def adapt_threshold(image):\n",
        "\n",
        "    binarized_image = cv2.adaptiveThreshold(image, 255, cv2.ADAPTIVE_THRESH_GAUSSIAN_C, cv2.THRESH_BINARY_INV, 21, 4)\n",
        "    return binarized_image\n",
        "\n",
        "def negative(image):\n",
        "\n",
        "    negative_image = cv2.bitwise_not(image)\n",
        "    return negative_image"
      ]
    },
    {
      "cell_type": "code",
      "execution_count": null,
      "metadata": {
        "id": "QLtylAdzgf0C"
      },
      "outputs": [
        {
          "ename": "",
          "evalue": "",
          "output_type": "error",
          "traceback": [
            "\u001b[1;31mRunning cells with 'Python 3.11.9' requires the ipykernel package.\n",
            "\u001b[1;31mRun the following command to install 'ipykernel' into the Python environment. \n",
            "\u001b[1;31mCommand: 'c:/Users/LucasMoura/AppData/Local/Microsoft/WindowsApps/python3.11.exe -m pip install ipykernel -U --user --force-reinstall'"
          ]
        }
      ],
      "source": [
        "#Ajuste de brilho e contraste\n",
        "for name, img_path in images_dict.items():\n",
        "    image = cv2.imread(img_path)\n",
        "    brilho = 100\n",
        "    contraste = 1.5\n",
        "    image = contrasteBrilho(image,brilho,contraste)"
      ]
    },
    {
      "cell_type": "code",
      "execution_count": null,
      "metadata": {
        "id": "Hp-j1sr-gm9q"
      },
      "outputs": [
        {
          "ename": "",
          "evalue": "",
          "output_type": "error",
          "traceback": [
            "\u001b[1;31mRunning cells with 'Python 3.11.9' requires the ipykernel package.\n",
            "\u001b[1;31mRun the following command to install 'ipykernel' into the Python environment. \n",
            "\u001b[1;31mCommand: 'c:/Users/LucasMoura/AppData/Local/Microsoft/WindowsApps/python3.11.exe -m pip install ipykernel -U --user --force-reinstall'"
          ]
        }
      ],
      "source": [
        "# Primeira etapa: carregando imagens e fazendo um primeiro threshold\n",
        "for name, img_path in images_dict.items():\n",
        "    image = cv2.imread(img_path)\n",
        "    gray_image = rgb_to_gray(image)\n",
        "    threshold_value = 135\n",
        "    binarized_image = threshold(gray_image, threshold_value)\n",
        "    cv2.imwrite(\"{}cg-proc/img/edited/t_hold_{}.jpeg\".format(master_path, name), binarized_image)"
      ]
    },
    {
      "cell_type": "code",
      "execution_count": null,
      "metadata": {
        "id": "g1rhYUBpgoyK"
      },
      "outputs": [
        {
          "ename": "",
          "evalue": "",
          "output_type": "error",
          "traceback": [
            "\u001b[1;31mRunning cells with 'Python 3.11.9' requires the ipykernel package.\n",
            "\u001b[1;31mRun the following command to install 'ipykernel' into the Python environment. \n",
            "\u001b[1;31mCommand: 'c:/Users/LucasMoura/AppData/Local/Microsoft/WindowsApps/python3.11.exe -m pip install ipykernel -U --user --force-reinstall'"
          ]
        }
      ],
      "source": [
        "# Segunda etapa: um novo threshold para deixar a imagem mais \"flat\": sem as sombras das imagens\n",
        "for name, img_path in images_dict.items():\n",
        "    image = cv2.imread(img_path)\n",
        "    gray_image = rgb_to_gray(image)\n",
        "    binarized_image = adapt_threshold(gray_image)\n",
        "    cv2.imwrite(\"{}cg-proc/img/edited/t_hold_adapt_{}.jpeg\".format(master_path, name), binarized_image)"
      ]
    },
    {
      "cell_type": "code",
      "execution_count": null,
      "metadata": {
        "id": "FbFxhkM8gq86"
      },
      "outputs": [
        {
          "ename": "",
          "evalue": "",
          "output_type": "error",
          "traceback": [
            "\u001b[1;31mRunning cells with 'Python 3.11.9' requires the ipykernel package.\n",
            "\u001b[1;31mRun the following command to install 'ipykernel' into the Python environment. \n",
            "\u001b[1;31mCommand: 'c:/Users/LucasMoura/AppData/Local/Microsoft/WindowsApps/python3.11.exe -m pip install ipykernel -U --user --force-reinstall'"
          ]
        }
      ],
      "source": [
        "# Terceira etapa: fazendo o negativo da imagem para trabalhar com as cores certas.\n",
        "images_dict_edited = {\n",
        "    'one_each_': \"{}cg-proc/img/edited/t_hold_one_each.jpeg\".format(master_path),\n",
        "    'glued_': \"{}cg-proc/img/edited/t_hold_glued.jpeg\".format(master_path),\n",
        "    'mess_': \"{}cg-proc/img/edited/t_hold_mess.jpeg\".format(master_path),\n",
        "    'real_and_twentyFive_': \"{}cg-proc/img/edited/t_hold_real_and_twentyFive.jpeg\".format(master_path)\n",
        "}\n",
        "\n",
        "for name, img_path in images_dict_edited.items():\n",
        "    image = cv2.imread(img_path, cv2.IMREAD_GRAYSCALE)\n",
        "    threshold_value = 135\n",
        "    binarized_image = threshold(image, threshold_value)\n",
        "    negative_image = negative(binarized_image)\n",
        "    cv2.imwrite(\"{}cg-proc/img/edited/{}_negative.jpeg\".format(master_path, name), negative_image)"
      ]
    }
  ],
  "metadata": {
    "colab": {
      "provenance": []
    },
    "kernelspec": {
      "display_name": "Python 3",
      "name": "python3"
    },
    "language_info": {
      "name": "python",
      "version": "3.11.9"
    }
  },
  "nbformat": 4,
  "nbformat_minor": 0
}
