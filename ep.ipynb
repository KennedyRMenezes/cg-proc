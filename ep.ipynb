{
 "cells": [
  {
   "cell_type": "code",
   "execution_count": 25,
   "metadata": {},
   "outputs": [],
   "source": [
    "import cv2"
   ]
  },
  {
   "cell_type": "code",
   "execution_count": 26,
   "metadata": {},
   "outputs": [],
   "source": [
    "#Coloque o caminho em que está a pasta 'cg-proc' que foi clonada do repositório\n",
    "master_path = \"/home/ken/KR/USP/7S/CG/\""
   ]
  },
  {
   "cell_type": "code",
   "execution_count": 27,
   "metadata": {},
   "outputs": [],
   "source": [
    "# Paths das imagens\n",
    "one_each = \"{}cg-proc/img/one_each.jpeg\".format(master_path)\n",
    "glued = \"{}cg-proc/img/glued.jpeg\".format(master_path)\n",
    "mess = \"{}cg-proc/img/mess.jpeg\".format(master_path)\n",
    "real_and_twentyFive = \"{}cg-proc/img/real_and_twentyFive.jpeg\".format(master_path)"
   ]
  },
  {
   "cell_type": "code",
   "execution_count": 28,
   "metadata": {},
   "outputs": [],
   "source": [
    "# Dict para usar o nome da variável na hora de salvar o arquivo alterado.\n",
    "images_dict = {\n",
    "    'one_each': one_each,\n",
    "    'glued': glued,\n",
    "    'mess': mess,\n",
    "    'real_and_twentyFive': real_and_twentyFive\n",
    "}\n"
   ]
  },
  {
   "cell_type": "code",
   "execution_count": 29,
   "metadata": {},
   "outputs": [],
   "source": [
    "#Funções de auxilio para plicar as transformações na imagem\n",
    "\n",
    "def rgb_to_gray(image):\n",
    "    \n",
    "    gray_image = cv2.cvtColor(image, cv2.COLOR_BGR2GRAY)\n",
    "    return gray_image\n",
    "\n",
    "def threshold(image, threshold_value):\n",
    "    \n",
    "    _, binarized_image = cv2.threshold(image, threshold_value, 255, cv2.THRESH_BINARY)\n",
    "    return binarized_image\n",
    "\n",
    "def negative(image):\n",
    "    \n",
    "    negative_image = cv2.bitwise_not(image)\n",
    "    return negative_image"
   ]
  },
  {
   "cell_type": "code",
   "execution_count": 30,
   "metadata": {},
   "outputs": [],
   "source": [
    "# Primeira etapa: carregando imagens e fazendo um primeiro threshold\n",
    "for name, img_path in images_dict.items():\n",
    "    image = cv2.imread(img_path)\n",
    "    gray_image = rgb_to_gray(image)\n",
    "    threshold_value = 135\n",
    "    binarized_image = threshold(gray_image, threshold_value)\n",
    "    cv2.imwrite(\"{}cg-proc/img/edited/t_hold_1_{}.jpeg\".format(master_path, name), binarized_image)"
   ]
  },
  {
   "cell_type": "code",
   "execution_count": 31,
   "metadata": {},
   "outputs": [],
   "source": [
    "# Segunda etapa: um novo threshold para deixar a imagem mais \"flat\": sem as sombras das imagens\n",
    "for name, img_path in images_dict.items():\n",
    "    image = cv2.imread(img_path)\n",
    "    gray_image = rgb_to_gray(image)\n",
    "    threshold_value = 110\n",
    "    binarized_image = threshold(gray_image, threshold_value)\n",
    "    cv2.imwrite(\"{}cg-proc/img/edited/t_hold_2_{}.jpeg\".format(master_path, name), binarized_image)"
   ]
  },
  {
   "cell_type": "code",
   "execution_count": 32,
   "metadata": {},
   "outputs": [],
   "source": [
    "# Terceira etapa: fazendo o negativo da imagem para trabalhar com as cores certas.\n",
    "images_dict_edited = {\n",
    "    'one_each_': \"{}cg-proc/img/edited/t_hold_2_one_each.jpeg\".format(master_path),\n",
    "    'glued_': \"{}cg-proc/img/edited/t_hold_2_glued.jpeg\".format(master_path),\n",
    "    'mess_': \"{}cg-proc/img/edited/t_hold_2_mess.jpeg\".format(master_path),\n",
    "    'real_and_twentyFive_': \"{}cg-proc/img/edited/t_hold_2_real_and_twentyFive.jpeg\".format(master_path)\n",
    "}\n",
    "\n",
    "for name, img_path in images_dict_edited.items():\n",
    "    image = cv2.imread(img_path, cv2.IMREAD_GRAYSCALE)\n",
    "    threshold_value = 135\n",
    "    binarized_image = threshold(image, threshold_value)\n",
    "    negative_image = negative(binarized_image)\n",
    "    cv2.imwrite(\"{}cg-proc/img/edited/{}_negative.jpeg\".format(master_path, name), negative_image)"
   ]
  }
 ],
 "metadata": {
  "kernelspec": {
   "display_name": "Python 3",
   "language": "python",
   "name": "python3"
  },
  "language_info": {
   "codemirror_mode": {
    "name": "ipython",
    "version": 3
   },
   "file_extension": ".py",
   "mimetype": "text/x-python",
   "name": "python",
   "nbconvert_exporter": "python",
   "pygments_lexer": "ipython3",
   "version": "3.8.10"
  }
 },
 "nbformat": 4,
 "nbformat_minor": 2
}
