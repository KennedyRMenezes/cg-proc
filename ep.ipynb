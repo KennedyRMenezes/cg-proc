{
 "cells": [
  {
   "cell_type": "code",
   "execution_count": 267,
   "metadata": {},
   "outputs": [],
   "source": [
    "import cv2\n",
    "from PIL import Image, ImageOps"
   ]
  },
  {
   "cell_type": "code",
   "execution_count": 268,
   "metadata": {},
   "outputs": [],
   "source": [
    "master_path = \"/home/ken/KR/USP/7S/CG/\""
   ]
  },
  {
   "cell_type": "markdown",
   "metadata": {},
   "source": [
    "#### Primeira Etapa: carregando imagens e fazendo um primeiro threshold"
   ]
  },
  {
   "cell_type": "code",
   "execution_count": 269,
   "metadata": {},
   "outputs": [],
   "source": [
    "one_each = \"{}cg-proc/img/one_each.jpeg\".format(master_path)\n",
    "glued = \"{}cg-proc/img/glued.jpeg\".format(master_path)\n",
    "mess = \"{}cg-proc/img/mess.jpeg\".format(master_path)\n",
    "real_and_twentyFive = \"{}cg-proc/img/real_and_twentyFive.jpeg\".format(master_path)\n",
    "\n",
    "list_images = [one_each, glued, mess, real_and_twentyFive]\n",
    "\n",
    "images_dict = {\n",
    "    'one_each': one_each,\n",
    "    'glued': glued,\n",
    "    'mess': mess,\n",
    "    'real_and_twentyFive': real_and_twentyFive\n",
    "}"
   ]
  },
  {
   "cell_type": "code",
   "execution_count": 270,
   "metadata": {},
   "outputs": [],
   "source": [
    "\n",
    "def rgb_to_gray(rgb_image):\n",
    "    \"\"\"\n",
    "    Converte uma imagem RGB para escala de cinza.\n",
    "    \n",
    "    Argumentos:\n",
    "    rgb_image: Imagem RGB (formato PIL).\n",
    "    \n",
    "    Retorna:\n",
    "    Imagem em escala de cinza (formato PIL).\n",
    "    \"\"\"\n",
    "    # Converter a imagem para modo \"L\" (escala de cinza)\n",
    "    gray_image = rgb_image.convert('L')\n",
    "    return gray_image\n",
    "\n",
    "def threshold(image, threshold_value):\n",
    "    \"\"\"\n",
    "    Aplica thresholding em uma imagem.\n",
    "    \n",
    "    Argumentos:\n",
    "    image: Imagem (formato PIL).\n",
    "    threshold_value: Valor de threshold.\n",
    "    \n",
    "    Retorna:\n",
    "    Imagem binarizada (pixels em preto ou branco).\n",
    "    \"\"\"\n",
    "    # Converter a imagem para escala de cinza\n",
    "    gray_image = rgb_to_gray(image)\n",
    "    \n",
    "    # Criar uma nova imagem binarizada\n",
    "    binarized_image = Image.new('1', gray_image.size)\n",
    "    \n",
    "    # Aplicar thresholding\n",
    "    for x in range(gray_image.width):\n",
    "        for y in range(gray_image.height):\n",
    "            if gray_image.getpixel((x, y)) >= threshold_value:\n",
    "                binarized_image.putpixel((x, y), 255)  # Branco\n",
    "            else:\n",
    "                binarized_image.putpixel((x, y), 0)    # Preto\n",
    "    \n",
    "    return binarized_image"
   ]
  },
  {
   "cell_type": "markdown",
   "metadata": {},
   "source": [
    "##### Valor de 135 se adequa bem as imagens"
   ]
  },
  {
   "cell_type": "code",
   "execution_count": 271,
   "metadata": {},
   "outputs": [],
   "source": [
    "\n",
    "for name, img_path in images_dict.items():\n",
    "    image = Image.open(img_path)\n",
    "    threshold_value = 135\n",
    "    binarized_image = threshold(image, threshold_value)\n",
    "    # Use o nome da variável para salvar o arquivo\n",
    "    binarized_image.save(\"{}cg-proc/img/edited/{}.jpeg\".format(master_path, name))"
   ]
  },
  {
   "cell_type": "markdown",
   "metadata": {},
   "source": [
    "#### Segunda etapa: um novo threshold para deixar a imagem mais \"flat\": sem as sombras das imagens"
   ]
  },
  {
   "cell_type": "code",
   "execution_count": 272,
   "metadata": {},
   "outputs": [],
   "source": [
    "def threshold(image, threshold_value):\n",
    "    \"\"\"\n",
    "    Aplica thresholding em uma imagem.\n",
    "    \n",
    "    Argumentos:\n",
    "    image: Imagem (formato PIL).\n",
    "    threshold_value: Valor de threshold.\n",
    "    \n",
    "    Retorna:\n",
    "    Imagem binarizada (pixels em preto ou branco).\n",
    "    \"\"\"\n",
    "    # Converter a imagem para escala de cinza\n",
    "    gray_image = rgb_to_gray(image)\n",
    "    \n",
    "    # Criar uma nova imagem binarizada\n",
    "    binarized_image = Image.new('1', gray_image.size)\n",
    "    \n",
    "    # Aplicar thresholding\n",
    "    for x in range(gray_image.width):\n",
    "        for y in range(gray_image.height):\n",
    "            if gray_image.getpixel((x, y)) < threshold_value:\n",
    "                binarized_image.putpixel((x, y),0)  # Branco\n",
    "            else:\n",
    "                binarized_image.putpixel((x, y),255)    # Preto\n",
    "    \n",
    "    return binarized_image"
   ]
  },
  {
   "cell_type": "code",
   "execution_count": 273,
   "metadata": {},
   "outputs": [],
   "source": [
    "one_each_ = \"{}cg-proc/img/one_each.jpeg\".format(master_path)\n",
    "glued_ = \"{}cg-proc/img/glued.jpeg\".format(master_path)\n",
    "mess_ = \"{}cg-proc/img/mess.jpeg\".format(master_path)\n",
    "real_and_twentyFive_ = \"{}cg-proc/img/real_and_twentyFive.jpeg\".format(master_path)\n",
    "\n",
    "list_images = [one_each_, glued_, mess_, real_and_twentyFive_]\n",
    "\n",
    "images_dict = {\n",
    "    'one_each_': one_each_,\n",
    "    'glued_': glued_,\n",
    "    'mess_': mess_,\n",
    "    'real_and_twentyFive_': real_and_twentyFive_\n",
    "}"
   ]
  },
  {
   "cell_type": "code",
   "execution_count": 274,
   "metadata": {},
   "outputs": [],
   "source": [
    "\n",
    "for name, img_path in images_dict.items():\n",
    "    image = Image.open(img_path)\n",
    "    threshold_value = 110\n",
    "    binarized_image = threshold(image, threshold_value)\n",
    "    # Use o nome da variável para salvar o arquivo\n",
    "    binarized_image.save(\"{}cg-proc/img/edited/{}.jpeg\".format(master_path, name))"
   ]
  },
  {
   "cell_type": "markdown",
   "metadata": {},
   "source": [
    "#### Terceira etapa: fazendo o negativo da imagem para trabalhar com as cores certas."
   ]
  },
  {
   "cell_type": "code",
   "execution_count": 275,
   "metadata": {},
   "outputs": [],
   "source": [
    "# Função para binarizar a imagem\n",
    "def threshold(image, threshold_value):\n",
    "    return image.point(lambda p: 255 if p > threshold_value else 0)\n",
    "\n",
    "# Função para criar o negativo de uma imagem binarizada\n",
    "def negative(image):\n",
    "    return ImageOps.invert(image)"
   ]
  },
  {
   "cell_type": "code",
   "execution_count": 276,
   "metadata": {},
   "outputs": [],
   "source": [
    "one_each_ = \"{}cg-proc/img/edited/one_each_.jpeg\".format(master_path)\n",
    "glued_ = \"{}cg-proc/img/edited/glued_.jpeg\".format(master_path)\n",
    "mess_ = \"{}cg-proc/img/edited/mess_.jpeg\".format(master_path)\n",
    "real_and_twentyFive_ = \"{}cg-proc/img/edited/real_and_twentyFive_.jpeg\".format(master_path)\n",
    "\n",
    "list_images = [one_each_, glued_, mess_, real_and_twentyFive_]\n",
    "\n",
    "images_dict = {\n",
    "    'one_each_': one_each_,\n",
    "    'glued_': glued_,\n",
    "    'mess_': mess_,\n",
    "    'real_and_twentyFive_': real_and_twentyFive_\n",
    "}"
   ]
  },
  {
   "cell_type": "code",
   "execution_count": 277,
   "metadata": {},
   "outputs": [],
   "source": [
    "# Itere sobre o dicionário para processar as imagens\n",
    "for name, img_path in images_dict.items():\n",
    "    image = Image.open(img_path).convert('L')  # Converta para grayscale\n",
    "    threshold_value = 135\n",
    "    binarized_image = threshold(image, threshold_value)\n",
    "    negative_image = negative(binarized_image)\n",
    "    # Use o nome da variável para salvar o arquivo\n",
    "    negative_image.save(\"{}cg-proc/img/edited/{}_negative.jpeg\".format(master_path, name))"
   ]
  }
 ],
 "metadata": {
  "kernelspec": {
   "display_name": "Python 3",
   "language": "python",
   "name": "python3"
  },
  "language_info": {
   "codemirror_mode": {
    "name": "ipython",
    "version": 3
   },
   "file_extension": ".py",
   "mimetype": "text/x-python",
   "name": "python",
   "nbconvert_exporter": "python",
   "pygments_lexer": "ipython3",
   "version": "3.8.10"
  }
 },
 "nbformat": 4,
 "nbformat_minor": 2
}
